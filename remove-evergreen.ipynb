{
 "cells": [
  {
   "cell_type": "code",
   "execution_count": null,
   "metadata": {},
   "outputs": [],
   "source": [
    "import os\n",
    "import re\n",
    "\n",
    "\n",
    "def replace_evergreen_tags(source_folder):\n",
    "    for filename in os.listdir(source_folder):\n",
    "        if filename.endswith('.md'):  # Check if the file is a Markdown file\n",
    "            markdown_file_path = os.path.join(source_folder, filename)\n",
    "\n",
    "            try:\n",
    "                # Read the file\n",
    "                with open(markdown_file_path, 'r', encoding='utf-8') as file:\n",
    "                    content = file.read()\n",
    "\n",
    "                # Replace #evergreen1 or #evergreen2 with #incubator\n",
    "                updated_content = re.sub(\n",
    "                    r'#evergreen[12]', '#incubator', content)\n",
    "\n",
    "                # Write the modified content back to the same file\n",
    "                with open(markdown_file_path, 'w', encoding='utf-8') as file:\n",
    "                    file.write(updated_content)\n",
    "\n",
    "            except Exception as e:\n",
    "                print(f\"Failed to process {filename}: {e}\")\n",
    "\n"
   ]
  },
  {
   "cell_type": "code",
   "execution_count": null,
   "metadata": {},
   "outputs": [],
   "source": [
    "# Usage example:\n",
    "replace_evergreen_tags('path_to_your_directory')"
   ]
  }
 ],
 "metadata": {
  "language_info": {
   "name": "python"
  }
 },
 "nbformat": 4,
 "nbformat_minor": 2
}
